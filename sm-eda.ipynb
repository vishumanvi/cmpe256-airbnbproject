{
 "cells": [
  {
   "cell_type": "markdown",
   "metadata": {},
   "source": [
    "## 0. Load Libraries"
   ]
  },
  {
   "cell_type": "code",
   "execution_count": 157,
   "metadata": {},
   "outputs": [],
   "source": [
    "import pandas as pd\n",
    "import re\n",
    "from classifier import *\n",
    "import numpy as np"
   ]
  },
  {
   "cell_type": "markdown",
   "metadata": {},
   "source": [
    "## 1. Obtain Data"
   ]
  },
  {
   "cell_type": "code",
   "execution_count": 174,
   "metadata": {},
   "outputs": [],
   "source": [
    "reviews_df = pd.read_csv(\"../data/interim/reviews_lang.csv\")"
   ]
  },
  {
   "cell_type": "code",
   "execution_count": 175,
   "metadata": {},
   "outputs": [
    {
     "data": {
      "text/html": [
       "<div>\n",
       "<style scoped>\n",
       "    .dataframe tbody tr th:only-of-type {\n",
       "        vertical-align: middle;\n",
       "    }\n",
       "\n",
       "    .dataframe tbody tr th {\n",
       "        vertical-align: top;\n",
       "    }\n",
       "\n",
       "    .dataframe thead th {\n",
       "        text-align: right;\n",
       "    }\n",
       "</style>\n",
       "<table border=\"1\" class=\"dataframe\">\n",
       "  <thead>\n",
       "    <tr style=\"text-align: right;\">\n",
       "      <th></th>\n",
       "      <th>listing_id</th>\n",
       "      <th>id</th>\n",
       "      <th>date</th>\n",
       "      <th>reviewer_id</th>\n",
       "      <th>reviewer_name</th>\n",
       "      <th>comments</th>\n",
       "      <th>lang</th>\n",
       "    </tr>\n",
       "  </thead>\n",
       "  <tbody>\n",
       "    <tr>\n",
       "      <th>0</th>\n",
       "      <td>2539</td>\n",
       "      <td>55688172</td>\n",
       "      <td>2015-12-04</td>\n",
       "      <td>25160947</td>\n",
       "      <td>Peter</td>\n",
       "      <td>Great host</td>\n",
       "      <td>ENGLISH</td>\n",
       "    </tr>\n",
       "    <tr>\n",
       "      <th>1</th>\n",
       "      <td>2539</td>\n",
       "      <td>97474898</td>\n",
       "      <td>2016-08-27</td>\n",
       "      <td>91513326</td>\n",
       "      <td>Liz</td>\n",
       "      <td>Nice room for the price. Great neighborhood. J...</td>\n",
       "      <td>ENGLISH</td>\n",
       "    </tr>\n",
       "    <tr>\n",
       "      <th>2</th>\n",
       "      <td>2539</td>\n",
       "      <td>105340344</td>\n",
       "      <td>2016-10-01</td>\n",
       "      <td>90022459</td>\n",
       "      <td>Евгений</td>\n",
       "      <td>Very nice apt.  New remodeled.</td>\n",
       "      <td>ENGLISH</td>\n",
       "    </tr>\n",
       "    <tr>\n",
       "      <th>3</th>\n",
       "      <td>2539</td>\n",
       "      <td>133131670</td>\n",
       "      <td>2017-02-20</td>\n",
       "      <td>116165195</td>\n",
       "      <td>George</td>\n",
       "      <td>Great place to stay for a while. John is a gre...</td>\n",
       "      <td>ENGLISH</td>\n",
       "    </tr>\n",
       "    <tr>\n",
       "      <th>4</th>\n",
       "      <td>2539</td>\n",
       "      <td>138349776</td>\n",
       "      <td>2017-03-19</td>\n",
       "      <td>118432644</td>\n",
       "      <td>Carlos</td>\n",
       "      <td>.</td>\n",
       "      <td>Unknown</td>\n",
       "    </tr>\n",
       "  </tbody>\n",
       "</table>\n",
       "</div>"
      ],
      "text/plain": [
       "   listing_id         id        date  reviewer_id reviewer_name  \\\n",
       "0        2539   55688172  2015-12-04     25160947         Peter   \n",
       "1        2539   97474898  2016-08-27     91513326           Liz   \n",
       "2        2539  105340344  2016-10-01     90022459       Евгений   \n",
       "3        2539  133131670  2017-02-20    116165195        George   \n",
       "4        2539  138349776  2017-03-19    118432644        Carlos   \n",
       "\n",
       "                                            comments     lang  \n",
       "0                                         Great host  ENGLISH  \n",
       "1  Nice room for the price. Great neighborhood. J...  ENGLISH  \n",
       "2                     Very nice apt.  New remodeled.  ENGLISH  \n",
       "3  Great place to stay for a while. John is a gre...  ENGLISH  \n",
       "4                                                  .  Unknown  "
      ]
     },
     "execution_count": 175,
     "metadata": {},
     "output_type": "execute_result"
    }
   ],
   "source": [
    "reviews_df.head()"
   ]
  },
  {
   "cell_type": "code",
   "execution_count": 176,
   "metadata": {},
   "outputs": [
    {
     "data": {
      "text/plain": [
       "(1106639, 7)"
      ]
     },
     "execution_count": 176,
     "metadata": {},
     "output_type": "execute_result"
    }
   ],
   "source": [
    "reviews_df.shape"
   ]
  },
  {
   "cell_type": "markdown",
   "metadata": {},
   "source": [
    "## 2. Sentiment Analysis"
   ]
  },
  {
   "cell_type": "markdown",
   "metadata": {},
   "source": [
    "### English Sentiment Analysis"
   ]
  },
  {
   "cell_type": "code",
   "execution_count": 161,
   "metadata": {},
   "outputs": [],
   "source": [
    "#!conda install -y -c conda-forge twython"
   ]
  },
  {
   "cell_type": "code",
   "execution_count": 162,
   "metadata": {},
   "outputs": [
    {
     "name": "stdout",
     "output_type": "stream",
     "text": [
      "[nltk_data] Downloading package vader_lexicon to\n",
      "[nltk_data]     /Users/shivanigoel/nltk_data...\n",
      "[nltk_data]   Package vader_lexicon is already up-to-date!\n"
     ]
    },
    {
     "data": {
      "text/plain": [
       "True"
      ]
     },
     "execution_count": 162,
     "metadata": {},
     "output_type": "execute_result"
    }
   ],
   "source": [
    "nltk.download('vader_lexicon')"
   ]
  },
  {
   "cell_type": "code",
   "execution_count": 163,
   "metadata": {},
   "outputs": [],
   "source": [
    "from nltk.sentiment.vader import SentimentIntensityAnalyzer"
   ]
  },
  {
   "cell_type": "code",
   "execution_count": 164,
   "metadata": {},
   "outputs": [],
   "source": [
    "sid = SentimentIntensityAnalyzer()"
   ]
  },
  {
   "cell_type": "code",
   "execution_count": 101,
   "metadata": {},
   "outputs": [],
   "source": [
    "#reviews_df[\"sentiments\"] = reviews_df[\"comments\"].apply(sid.polarity_scores)\n",
    "#reviews_df = pd.concat([reviews_df.drop(['sentiments'], axis=1), reviews_df['sentiments'].apply(pd.Series)], axis=1)"
   ]
  },
  {
   "cell_type": "markdown",
   "metadata": {},
   "source": [
    "### Spanish Sentiment Analysis"
   ]
  },
  {
   "cell_type": "markdown",
   "metadata": {},
   "source": [
    "https://github.com/aylliote/senti-py"
   ]
  },
  {
   "cell_type": "markdown",
   "metadata": {},
   "source": [
    "gives score from 0 to 1"
   ]
  },
  {
   "cell_type": "code",
   "execution_count": 165,
   "metadata": {},
   "outputs": [],
   "source": [
    "clf = SentimentClassifier()"
   ]
  },
  {
   "cell_type": "code",
   "execution_count": 168,
   "metadata": {},
   "outputs": [
    {
     "name": "stdout",
     "output_type": "stream",
     "text": [
      "0.04990360002581841\n",
      "0.8815847389709347\n"
     ]
    }
   ],
   "source": [
    "x = \"Esto es tan bueno me encanta\" #This is so good. Love it.\n",
    "y = \"Ubicación asquerosa. Nunca volveré.\" #Disgusting location. will never come back.\n",
    "print(clf.predict(y))\n",
    "print(clf.predict(x))"
   ]
  },
  {
   "cell_type": "markdown",
   "metadata": {},
   "source": [
    "### German Sentiment Analysis"
   ]
  },
  {
   "cell_type": "code",
   "execution_count": 50,
   "metadata": {},
   "outputs": [
    {
     "name": "stdout",
     "output_type": "stream",
     "text": [
      "Collecting textblob-de\n",
      "\u001b[?25l  Downloading https://files.pythonhosted.org/packages/47/61/7a5759c3ac60bf9330a50ce81ebe7f0aac1bc6c674d45e00f7b3e190f5af/textblob_de-0.4.3-py2.py3-none-any.whl (468kB)\n",
      "\u001b[K    100% |████████████████████████████████| 471kB 3.2MB/s \n",
      "\u001b[?25hRequirement already satisfied, skipping upgrade: textblob>=0.9.0 in /anaconda/lib/python3.6/site-packages (from textblob-de) (0.15.3)\n",
      "Requirement already satisfied, skipping upgrade: nltk>=3.1 in /anaconda/lib/python3.6/site-packages (from textblob>=0.9.0->textblob-de) (3.2.3)\n",
      "Requirement already satisfied, skipping upgrade: six in /anaconda/lib/python3.6/site-packages (from nltk>=3.1->textblob>=0.9.0->textblob-de) (1.10.0)\n",
      "Installing collected packages: textblob-de\n",
      "Successfully installed textblob-de-0.4.3\n",
      "[nltk_data] Downloading package brown to\n",
      "[nltk_data]     /Users/shivanigoel/nltk_data...\n",
      "[nltk_data]   Package brown is already up-to-date!\n",
      "[nltk_data] Downloading package punkt to\n",
      "[nltk_data]     /Users/shivanigoel/nltk_data...\n",
      "[nltk_data]   Package punkt is already up-to-date!\n",
      "[nltk_data] Downloading package wordnet to\n",
      "[nltk_data]     /Users/shivanigoel/nltk_data...\n",
      "[nltk_data]   Package wordnet is already up-to-date!\n",
      "[nltk_data] Downloading package averaged_perceptron_tagger to\n",
      "[nltk_data]     /Users/shivanigoel/nltk_data...\n",
      "[nltk_data]   Package averaged_perceptron_tagger is already up-to-\n",
      "[nltk_data]       date!\n",
      "[nltk_data] Downloading package conll2000 to\n",
      "[nltk_data]     /Users/shivanigoel/nltk_data...\n",
      "[nltk_data]   Package conll2000 is already up-to-date!\n",
      "[nltk_data] Downloading package movie_reviews to\n",
      "[nltk_data]     /Users/shivanigoel/nltk_data...\n",
      "[nltk_data]   Package movie_reviews is already up-to-date!\n",
      "Finished.\n"
     ]
    }
   ],
   "source": [
    "!pip install -U textblob-de\n",
    "!python -m textblob.download_corpora"
   ]
  },
  {
   "cell_type": "code",
   "execution_count": 51,
   "metadata": {},
   "outputs": [],
   "source": [
    "from textblob import Blobber\n",
    "from textblob_de import PatternTagger, PatternAnalyzer\n",
    "tb_de = Blobber(pos_tagger=PatternTagger(), analyzer=PatternAnalyzer())"
   ]
  },
  {
   "cell_type": "code",
   "execution_count": 170,
   "metadata": {},
   "outputs": [
    {
     "name": "stdout",
     "output_type": "stream",
     "text": [
      "-1.0\n"
     ]
    }
   ],
   "source": [
    "blob1_de = tb_de(\"Das Leben ist eine Schachtel Pralinen schlecht\")\n",
    "print(blob1_de.sentiment.polarity)"
   ]
  },
  {
   "cell_type": "markdown",
   "metadata": {},
   "source": [
    "### French Sentiment Analysis"
   ]
  },
  {
   "cell_type": "code",
   "execution_count": 67,
   "metadata": {},
   "outputs": [],
   "source": [
    "from textblob import Blobber\n",
    "from textblob_fr import PatternTagger, PatternAnalyzer\n",
    "tb_fe = Blobber(pos_tagger=PatternTagger(), analyzer=PatternAnalyzer())"
   ]
  },
  {
   "cell_type": "code",
   "execution_count": 172,
   "metadata": {},
   "outputs": [
    {
     "name": "stdout",
     "output_type": "stream",
     "text": [
      "0.8\n",
      "-0.7\n"
     ]
    }
   ],
   "source": [
    "blob1 = tb_fe(u\"Quelle belle matinée\")\n",
    "print(blob1.sentiment[0])\n",
    "blob2 = tb(u\"C'est une voiture terribles.\")\n",
    "print(blob2.sentiment[0])"
   ]
  },
  {
   "cell_type": "markdown",
   "metadata": {},
   "source": [
    "## Finale"
   ]
  },
  {
   "cell_type": "code",
   "execution_count": 178,
   "metadata": {},
   "outputs": [
    {
     "data": {
      "text/plain": [
       "482"
      ]
     },
     "execution_count": 178,
     "metadata": {},
     "output_type": "execute_result"
    }
   ],
   "source": [
    "reviews_df.comments.isna().sum()"
   ]
  },
  {
   "cell_type": "code",
   "execution_count": 179,
   "metadata": {},
   "outputs": [],
   "source": [
    "reviews_df = reviews_df[~reviews_df.comments.isna()]"
   ]
  },
  {
   "cell_type": "code",
   "execution_count": 180,
   "metadata": {},
   "outputs": [],
   "source": [
    "def run_sentiment_analysis(row):\n",
    "    text = row['comments']\n",
    "    if('ENGLISH' in row['lang']):\n",
    "        return float(sid.polarity_scores(text)['compound'])\n",
    "    if('SPANISH' in row['lang']):\n",
    "        return float(clf.predict(text))\n",
    "    if('FRENCH' in row['lang']):\n",
    "        return float(tb_fe(text).sentiment[0])\n",
    "    if('GERMAN' in row['lang']):\n",
    "        return float(tb_de(text).sentiment.polarity)\n",
    "    return np.nan"
   ]
  },
  {
   "cell_type": "code",
   "execution_count": null,
   "metadata": {},
   "outputs": [],
   "source": [
    "reviews_df['polarity'] = reviews_df.apply(run_sentiment_analysis, axis=1)"
   ]
  },
  {
   "cell_type": "code",
   "execution_count": 96,
   "metadata": {},
   "outputs": [
    {
     "data": {
      "text/html": [
       "<div>\n",
       "<style scoped>\n",
       "    .dataframe tbody tr th:only-of-type {\n",
       "        vertical-align: middle;\n",
       "    }\n",
       "\n",
       "    .dataframe tbody tr th {\n",
       "        vertical-align: top;\n",
       "    }\n",
       "\n",
       "    .dataframe thead th {\n",
       "        text-align: right;\n",
       "    }\n",
       "</style>\n",
       "<table border=\"1\" class=\"dataframe\">\n",
       "  <thead>\n",
       "    <tr style=\"text-align: right;\">\n",
       "      <th></th>\n",
       "      <th>Unnamed: 0</th>\n",
       "      <th>listing_id</th>\n",
       "      <th>id</th>\n",
       "      <th>date</th>\n",
       "      <th>reviewer_id</th>\n",
       "      <th>reviewer_name</th>\n",
       "      <th>comments</th>\n",
       "      <th>lang</th>\n",
       "      <th>comments_clean</th>\n",
       "      <th>polarity</th>\n",
       "    </tr>\n",
       "  </thead>\n",
       "  <tbody>\n",
       "    <tr>\n",
       "      <th>0</th>\n",
       "      <td>24431</td>\n",
       "      <td>60948</td>\n",
       "      <td>301066782</td>\n",
       "      <td>2018-08-03</td>\n",
       "      <td>9485766</td>\n",
       "      <td>Melanie</td>\n",
       "      <td>Positives first: very large space for New York...</td>\n",
       "      <td>ENGLISH</td>\n",
       "      <td>positive first large space new york interestin...</td>\n",
       "      <td>0.9229</td>\n",
       "    </tr>\n",
       "    <tr>\n",
       "      <th>1</th>\n",
       "      <td>848983</td>\n",
       "      <td>19018581</td>\n",
       "      <td>290463512</td>\n",
       "      <td>2018-07-14</td>\n",
       "      <td>6522555</td>\n",
       "      <td>Vicki</td>\n",
       "      <td>Emma and Alistair are great. They even gave me...</td>\n",
       "      <td>ENGLISH</td>\n",
       "      <td>emma alistair great even give shelf fridge acc...</td>\n",
       "      <td>0.9600</td>\n",
       "    </tr>\n",
       "    <tr>\n",
       "      <th>2</th>\n",
       "      <td>299568</td>\n",
       "      <td>3835681</td>\n",
       "      <td>20630431</td>\n",
       "      <td>2014-10-02</td>\n",
       "      <td>1439046</td>\n",
       "      <td>Jan</td>\n",
       "      <td>The Host is perfect guy, the place is really n...</td>\n",
       "      <td>ENGLISH</td>\n",
       "      <td>host perfect guy place really nice look close ...</td>\n",
       "      <td>0.7778</td>\n",
       "    </tr>\n",
       "    <tr>\n",
       "      <th>3</th>\n",
       "      <td>619865</td>\n",
       "      <td>12600938</td>\n",
       "      <td>122667036</td>\n",
       "      <td>2016-12-25</td>\n",
       "      <td>50020643</td>\n",
       "      <td>Jerez</td>\n",
       "      <td>We had a lovely stay, very accommodating, help...</td>\n",
       "      <td>ENGLISH</td>\n",
       "      <td>lovely stay accommodate helpful welcome would ...</td>\n",
       "      <td>0.9058</td>\n",
       "    </tr>\n",
       "    <tr>\n",
       "      <th>4</th>\n",
       "      <td>539573</td>\n",
       "      <td>9713045</td>\n",
       "      <td>207205374</td>\n",
       "      <td>2017-10-28</td>\n",
       "      <td>11537814</td>\n",
       "      <td>Jeffrey</td>\n",
       "      <td>We like to thank Cedric to make special arrang...</td>\n",
       "      <td>ENGLISH</td>\n",
       "      <td>like thank cedric make special arrangement che...</td>\n",
       "      <td>0.9081</td>\n",
       "    </tr>\n",
       "  </tbody>\n",
       "</table>\n",
       "</div>"
      ],
      "text/plain": [
       "   Unnamed: 0  listing_id         id        date  reviewer_id reviewer_name  \\\n",
       "0       24431       60948  301066782  2018-08-03      9485766       Melanie   \n",
       "1      848983    19018581  290463512  2018-07-14      6522555         Vicki   \n",
       "2      299568     3835681   20630431  2014-10-02      1439046           Jan   \n",
       "3      619865    12600938  122667036  2016-12-25     50020643         Jerez   \n",
       "4      539573     9713045  207205374  2017-10-28     11537814       Jeffrey   \n",
       "\n",
       "                                            comments     lang  \\\n",
       "0  Positives first: very large space for New York...  ENGLISH   \n",
       "1  Emma and Alistair are great. They even gave me...  ENGLISH   \n",
       "2  The Host is perfect guy, the place is really n...  ENGLISH   \n",
       "3  We had a lovely stay, very accommodating, help...  ENGLISH   \n",
       "4  We like to thank Cedric to make special arrang...  ENGLISH   \n",
       "\n",
       "                                      comments_clean  polarity  \n",
       "0  positive first large space new york interestin...    0.9229  \n",
       "1  emma alistair great even give shelf fridge acc...    0.9600  \n",
       "2  host perfect guy place really nice look close ...    0.7778  \n",
       "3  lovely stay accommodate helpful welcome would ...    0.9058  \n",
       "4  like thank cedric make special arrangement che...    0.9081  "
      ]
     },
     "execution_count": 96,
     "metadata": {},
     "output_type": "execute_result"
    }
   ],
   "source": [
    "reviews_df.head()"
   ]
  },
  {
   "cell_type": "code",
   "execution_count": 97,
   "metadata": {},
   "outputs": [
    {
     "data": {
      "text/plain": [
       "3560"
      ]
     },
     "execution_count": 97,
     "metadata": {},
     "output_type": "execute_result"
    }
   ],
   "source": [
    "reviews_df.polarity.isna().sum()"
   ]
  },
  {
   "cell_type": "markdown",
   "metadata": {},
   "source": [
    "### Normalization for spanish reviews polarity"
   ]
  },
  {
   "cell_type": "code",
   "execution_count": 101,
   "metadata": {},
   "outputs": [],
   "source": [
    "a = -1.0\n",
    "b = 1.0\n",
    "minimum = 0.0\n",
    "maximum = 1.0\n",
    "def normalize_polarity(row):\n",
    "    if('SPANISH' in row['lang']):\n",
    "        return ((b-a)*(row['polarity']-minimum)/(maximum-minimum)) + a\n",
    "    return row['polarity']\n",
    "    "
   ]
  },
  {
   "cell_type": "code",
   "execution_count": 102,
   "metadata": {},
   "outputs": [],
   "source": [
    "normalized_polarity = reviews_df.apply(normalize_polarity,axis = 1)"
   ]
  },
  {
   "cell_type": "code",
   "execution_count": 106,
   "metadata": {},
   "outputs": [],
   "source": [
    "reviews_df['polarity'] = normalized_polarity"
   ]
  },
  {
   "cell_type": "markdown",
   "metadata": {},
   "source": [
    "### Dropping na"
   ]
  },
  {
   "cell_type": "code",
   "execution_count": 109,
   "metadata": {},
   "outputs": [],
   "source": [
    "reviews_df = reviews_df[~reviews_df.polarity.isna()]"
   ]
  },
  {
   "cell_type": "code",
   "execution_count": 110,
   "metadata": {},
   "outputs": [
    {
     "data": {
      "text/plain": [
       "ENGLISH    98383\n",
       "FRENCH      3875\n",
       "SPANISH     3529\n",
       "GERMAN      1273\n",
       "Name: lang, dtype: int64"
      ]
     },
     "execution_count": 110,
     "metadata": {},
     "output_type": "execute_result"
    }
   ],
   "source": [
    "reviews_df.lang.value_counts()"
   ]
  },
  {
   "cell_type": "markdown",
   "metadata": {},
   "source": [
    "## Handle bot generated reviews"
   ]
  },
  {
   "cell_type": "code",
   "execution_count": 118,
   "metadata": {},
   "outputs": [
    {
     "data": {
      "text/html": [
       "<div>\n",
       "<style scoped>\n",
       "    .dataframe tbody tr th:only-of-type {\n",
       "        vertical-align: middle;\n",
       "    }\n",
       "\n",
       "    .dataframe tbody tr th {\n",
       "        vertical-align: top;\n",
       "    }\n",
       "\n",
       "    .dataframe thead th {\n",
       "        text-align: right;\n",
       "    }\n",
       "</style>\n",
       "<table border=\"1\" class=\"dataframe\">\n",
       "  <thead>\n",
       "    <tr style=\"text-align: right;\">\n",
       "      <th></th>\n",
       "      <th>comments</th>\n",
       "      <th>polarity</th>\n",
       "      <th>listing_id</th>\n",
       "      <th>id</th>\n",
       "    </tr>\n",
       "  </thead>\n",
       "  <tbody>\n",
       "    <tr>\n",
       "      <th>81763</th>\n",
       "      <td>Ganz schlechte Unterkunft. Schlechte Gerüche w...</td>\n",
       "      <td>-1.000000</td>\n",
       "      <td>6327222</td>\n",
       "      <td>96784934</td>\n",
       "    </tr>\n",
       "    <tr>\n",
       "      <th>30143</th>\n",
       "      <td>eine schäbige Wohnung. Nie wieder!</td>\n",
       "      <td>-1.000000</td>\n",
       "      <td>25742022</td>\n",
       "      <td>329351594</td>\n",
       "    </tr>\n",
       "    <tr>\n",
       "      <th>49889</th>\n",
       "      <td>I deeply advise to check on other places befor...</td>\n",
       "      <td>-0.999974</td>\n",
       "      <td>20503833</td>\n",
       "      <td>332536080</td>\n",
       "    </tr>\n",
       "    <tr>\n",
       "      <th>45914</th>\n",
       "      <td>Alexander no estaba en el país y quien se enca...</td>\n",
       "      <td>-0.997277</td>\n",
       "      <td>11799451</td>\n",
       "      <td>142496550</td>\n",
       "    </tr>\n",
       "    <tr>\n",
       "      <th>74148</th>\n",
       "      <td>This is a filthy hole in a filthy old building...</td>\n",
       "      <td>-0.996900</td>\n",
       "      <td>12584271</td>\n",
       "      <td>276452660</td>\n",
       "    </tr>\n",
       "    <tr>\n",
       "      <th>107320</th>\n",
       "      <td>Yoni, mas puntualidad con el check in no estuv...</td>\n",
       "      <td>-0.996711</td>\n",
       "      <td>15329781</td>\n",
       "      <td>248432253</td>\n",
       "    </tr>\n",
       "    <tr>\n",
       "      <th>54008</th>\n",
       "      <td>Llegamos a las 21:15, después de pasar el duro...</td>\n",
       "      <td>-0.996697</td>\n",
       "      <td>593292</td>\n",
       "      <td>180473246</td>\n",
       "    </tr>\n",
       "    <tr>\n",
       "      <th>64233</th>\n",
       "      <td>El baño es un verdadero problema ya que la taz...</td>\n",
       "      <td>-0.996151</td>\n",
       "      <td>14820644</td>\n",
       "      <td>230585296</td>\n",
       "    </tr>\n",
       "    <tr>\n",
       "      <th>73997</th>\n",
       "      <td>There was a snow storm earlier in the week and...</td>\n",
       "      <td>-0.995700</td>\n",
       "      <td>30463017</td>\n",
       "      <td>408052186</td>\n",
       "    </tr>\n",
       "    <tr>\n",
       "      <th>56063</th>\n",
       "      <td>During the stay, Zooey and I felt very happy t...</td>\n",
       "      <td>-0.994800</td>\n",
       "      <td>284208</td>\n",
       "      <td>190661427</td>\n",
       "    </tr>\n",
       "    <tr>\n",
       "      <th>54392</th>\n",
       "      <td>La peor experiencia jamás vivida. La descripci...</td>\n",
       "      <td>-0.994556</td>\n",
       "      <td>5288376</td>\n",
       "      <td>35821431</td>\n",
       "    </tr>\n",
       "    <tr>\n",
       "      <th>51125</th>\n",
       "      <td>Las cerraduras de la puerta, al princpio, pued...</td>\n",
       "      <td>-0.991826</td>\n",
       "      <td>3303165</td>\n",
       "      <td>195987391</td>\n",
       "    </tr>\n",
       "    <tr>\n",
       "      <th>60108</th>\n",
       "      <td>The most disappointing experience ever in an A...</td>\n",
       "      <td>-0.991500</td>\n",
       "      <td>21609701</td>\n",
       "      <td>263631996</td>\n",
       "    </tr>\n",
       "    <tr>\n",
       "      <th>10821</th>\n",
       "      <td>La verdad nos fue mal, la comunicación con Dax...</td>\n",
       "      <td>-0.990604</td>\n",
       "      <td>11125166</td>\n",
       "      <td>152851988</td>\n",
       "    </tr>\n",
       "    <tr>\n",
       "      <th>96711</th>\n",
       "      <td>The WORST Airbnb experience I’ve ever had. Our...</td>\n",
       "      <td>-0.990200</td>\n",
       "      <td>13974993</td>\n",
       "      <td>336747186</td>\n",
       "    </tr>\n",
       "    <tr>\n",
       "      <th>57162</th>\n",
       "      <td>This is the 1rst time I have to put a negative...</td>\n",
       "      <td>-0.988700</td>\n",
       "      <td>3060297</td>\n",
       "      <td>82976157</td>\n",
       "    </tr>\n",
       "    <tr>\n",
       "      <th>33127</th>\n",
       "      <td>DO NOT GO TO THIS PLACE. Christopher is a LIAR...</td>\n",
       "      <td>-0.987300</td>\n",
       "      <td>819206</td>\n",
       "      <td>105345282</td>\n",
       "    </tr>\n",
       "    <tr>\n",
       "      <th>13593</th>\n",
       "      <td>es un lugar muy pequeño, literalmente se sale ...</td>\n",
       "      <td>-0.986153</td>\n",
       "      <td>21299656</td>\n",
       "      <td>361574095</td>\n",
       "    </tr>\n",
       "    <tr>\n",
       "      <th>6641</th>\n",
       "      <td>I can divide my experience at Michael's place ...</td>\n",
       "      <td>-0.985400</td>\n",
       "      <td>4530432</td>\n",
       "      <td>359314366</td>\n",
       "    </tr>\n",
       "    <tr>\n",
       "      <th>100455</th>\n",
       "      <td>I would definitely NOT RECOMEND this place to ...</td>\n",
       "      <td>-0.985200</td>\n",
       "      <td>13116397</td>\n",
       "      <td>101852260</td>\n",
       "    </tr>\n",
       "    <tr>\n",
       "      <th>41235</th>\n",
       "      <td>This place served its purpose for me and my fa...</td>\n",
       "      <td>-0.984300</td>\n",
       "      <td>23981279</td>\n",
       "      <td>278091937</td>\n",
       "    </tr>\n",
       "    <tr>\n",
       "      <th>97354</th>\n",
       "      <td>Unfortunately this place was a let-down and a ...</td>\n",
       "      <td>-0.984100</td>\n",
       "      <td>5411787</td>\n",
       "      <td>224199668</td>\n",
       "    </tr>\n",
       "    <tr>\n",
       "      <th>69</th>\n",
       "      <td>We have an email from Airbnb confirming that m...</td>\n",
       "      <td>-0.983800</td>\n",
       "      <td>957002</td>\n",
       "      <td>11847311</td>\n",
       "    </tr>\n",
       "    <tr>\n",
       "      <th>109068</th>\n",
       "      <td>Pros:\\n-The apartment and building are newly r...</td>\n",
       "      <td>-0.983700</td>\n",
       "      <td>11340694</td>\n",
       "      <td>330367298</td>\n",
       "    </tr>\n",
       "    <tr>\n",
       "      <th>10022</th>\n",
       "      <td>Una mala experiencia!!!!\\r\\nEl departamento no...</td>\n",
       "      <td>-0.983572</td>\n",
       "      <td>4774496</td>\n",
       "      <td>48374285</td>\n",
       "    </tr>\n",
       "  </tbody>\n",
       "</table>\n",
       "</div>"
      ],
      "text/plain": [
       "                                                 comments  polarity  \\\n",
       "81763   Ganz schlechte Unterkunft. Schlechte Gerüche w... -1.000000   \n",
       "30143                  eine schäbige Wohnung. Nie wieder! -1.000000   \n",
       "49889   I deeply advise to check on other places befor... -0.999974   \n",
       "45914   Alexander no estaba en el país y quien se enca... -0.997277   \n",
       "74148   This is a filthy hole in a filthy old building... -0.996900   \n",
       "107320  Yoni, mas puntualidad con el check in no estuv... -0.996711   \n",
       "54008   Llegamos a las 21:15, después de pasar el duro... -0.996697   \n",
       "64233   El baño es un verdadero problema ya que la taz... -0.996151   \n",
       "73997   There was a snow storm earlier in the week and... -0.995700   \n",
       "56063   During the stay, Zooey and I felt very happy t... -0.994800   \n",
       "54392   La peor experiencia jamás vivida. La descripci... -0.994556   \n",
       "51125   Las cerraduras de la puerta, al princpio, pued... -0.991826   \n",
       "60108   The most disappointing experience ever in an A... -0.991500   \n",
       "10821   La verdad nos fue mal, la comunicación con Dax... -0.990604   \n",
       "96711   The WORST Airbnb experience I’ve ever had. Our... -0.990200   \n",
       "57162   This is the 1rst time I have to put a negative... -0.988700   \n",
       "33127   DO NOT GO TO THIS PLACE. Christopher is a LIAR... -0.987300   \n",
       "13593   es un lugar muy pequeño, literalmente se sale ... -0.986153   \n",
       "6641    I can divide my experience at Michael's place ... -0.985400   \n",
       "100455  I would definitely NOT RECOMEND this place to ... -0.985200   \n",
       "41235   This place served its purpose for me and my fa... -0.984300   \n",
       "97354   Unfortunately this place was a let-down and a ... -0.984100   \n",
       "69      We have an email from Airbnb confirming that m... -0.983800   \n",
       "109068  Pros:\\n-The apartment and building are newly r... -0.983700   \n",
       "10022   Una mala experiencia!!!!\\r\\nEl departamento no... -0.983572   \n",
       "\n",
       "        listing_id         id  \n",
       "81763      6327222   96784934  \n",
       "30143     25742022  329351594  \n",
       "49889     20503833  332536080  \n",
       "45914     11799451  142496550  \n",
       "74148     12584271  276452660  \n",
       "107320    15329781  248432253  \n",
       "54008       593292  180473246  \n",
       "64233     14820644  230585296  \n",
       "73997     30463017  408052186  \n",
       "56063       284208  190661427  \n",
       "54392      5288376   35821431  \n",
       "51125      3303165  195987391  \n",
       "60108     21609701  263631996  \n",
       "10821     11125166  152851988  \n",
       "96711     13974993  336747186  \n",
       "57162      3060297   82976157  \n",
       "33127       819206  105345282  \n",
       "13593     21299656  361574095  \n",
       "6641       4530432  359314366  \n",
       "100455    13116397  101852260  \n",
       "41235     23981279  278091937  \n",
       "97354      5411787  224199668  \n",
       "69          957002   11847311  \n",
       "109068    11340694  330367298  \n",
       "10022      4774496   48374285  "
      ]
     },
     "execution_count": 118,
     "metadata": {},
     "output_type": "execute_result"
    }
   ],
   "source": [
    "reviews_df.sort_values(\"polarity\", ascending=True)[[\"comments\", \"polarity\",\"listing_id\",\"id\"]].head(25)"
   ]
  },
  {
   "cell_type": "code",
   "execution_count": 126,
   "metadata": {},
   "outputs": [
    {
     "name": "stdout",
     "output_type": "stream",
     "text": [
      "During the stay, Zooey and I felt very happy to live with Louisa and her husband. We have some big luggage making the room a bit crowded, but still lovely. Louisa and her husband were living in the parlor, so we can't have time in the beautiful parlor, which is a bit disappointing to us. We think the Chihuahua Zou Zou was very cute at first, but sometimes she seems not welcoming and comfortable about us there, making some angry sound when we came close to her. Unfortunately, the accident happened on the day we left. Louisa agreed to let us leave the luggage in the house till the afternoon after we checked out early for sightseeing, and she also went out for parade so she agreed we kept the keys until we came back in case she wasn’t home. Since the weekend subway delay, we came back two hours later than the time we discussed with her first, but we informed her in advance and she was ok about it. When we entered the long hall and accessed to parlor, Zou zou seems very angry about our appearance and started to bark at us badly. Once we took one of the luggage, Zou Zou bit the leather jacket hanging on Zooey’s arm, and it was torn a big hole in the next second. We were frightened and called Louisa immediately. Since Louisa was in the parade, she could only suggest us to shout at Zou Zou and make her stop. We did and I believed we failed, because when we tried to take the last luggage, Zou zou didn’t let us even if we held a board in front of us to avoid her attack, she was still very aggressive and rushed to the board several times. Therefore, we left the last luggage in the parlor and told Louisa we could only come back again to take it. It was exhausted and terrible, but we still really appreciated that Louisa offered us kind convenience. After this frightening experience, we discussed with Louisa about the compensation. We considered it as an unexpected tragedy but it didn’t affect any good feeling about Louisa, Zou Zou and the house. At first, she agreed to cover some expense for a part of the damage. But after the next day we sent her the broken jacket photos, she changed her attitude and claimed that the accident happened was after our check out time, so it’s not fair we consider this as her responsibility. (And also said if it’s during our stay, she will take full responsibility. It was strange cuz she agreed to let us leave the luggage.) We felt unset cuz we never thought she was fully responsible of it, and we also accepted the result that the jacket was broken. We still need to discuss a solution to end this problem. However, since we don’t want to argue anymore, we didn’t ask any compensation in the end. But, we still think it’s...\n"
     ]
    }
   ],
   "source": [
    "print(reviews_df[reviews_df['listing_id'] == 284208].comments[56063])"
   ]
  },
  {
   "cell_type": "code",
   "execution_count": 145,
   "metadata": {},
   "outputs": [
    {
     "data": {
      "text/plain": [
       " 0.0000    1615\n",
       "-0.3818       4\n",
       " 0.7263       1\n",
       "Name: polarity, dtype: int64"
      ]
     },
     "execution_count": 145,
     "metadata": {},
     "output_type": "execute_result"
    }
   ],
   "source": [
    "reviews_df[reviews_df.comments.str.startswith('The host canceled')]['polarity'].value_counts()"
   ]
  },
  {
   "cell_type": "code",
   "execution_count": 146,
   "metadata": {},
   "outputs": [
    {
     "data": {
      "text/plain": [
       "0.0    149\n",
       "Name: polarity, dtype: int64"
      ]
     },
     "execution_count": 146,
     "metadata": {},
     "output_type": "execute_result"
    }
   ],
   "source": [
    "reviews_df[reviews_df.comments.str.startswith('The reservation was canceled')]['polarity'].value_counts()"
   ]
  },
  {
   "cell_type": "code",
   "execution_count": 152,
   "metadata": {},
   "outputs": [],
   "source": [
    "reviews_df = reviews_df[~reviews_df.comments.str.startswith('The host canceled')]"
   ]
  },
  {
   "cell_type": "code",
   "execution_count": 153,
   "metadata": {},
   "outputs": [],
   "source": [
    "reviews_df = reviews_df[~reviews_df.comments.str.startswith('The reservation was canceled')]"
   ]
  },
  {
   "cell_type": "markdown",
   "metadata": {},
   "source": [
    "## Writing down in csv"
   ]
  },
  {
   "cell_type": "code",
   "execution_count": 156,
   "metadata": {},
   "outputs": [],
   "source": [
    "reviews_df.to_csv('../data/interim/final_ratings')"
   ]
  },
  {
   "cell_type": "code",
   "execution_count": null,
   "metadata": {},
   "outputs": [],
   "source": []
  }
 ],
 "metadata": {
  "kernelspec": {
   "display_name": "Python 3",
   "language": "python",
   "name": "python3"
  },
  "language_info": {
   "codemirror_mode": {
    "name": "ipython",
    "version": 3
   },
   "file_extension": ".py",
   "mimetype": "text/x-python",
   "name": "python",
   "nbconvert_exporter": "python",
   "pygments_lexer": "ipython3",
   "version": "3.7.1"
  }
 },
 "nbformat": 4,
 "nbformat_minor": 2
}
