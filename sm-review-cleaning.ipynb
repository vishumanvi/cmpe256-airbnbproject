{
 "cells": [
  {
   "cell_type": "markdown",
   "metadata": {},
   "source": [
    "## 0. Load Libraries"
   ]
  },
  {
   "cell_type": "code",
   "execution_count": 1,
   "metadata": {},
   "outputs": [],
   "source": [
    "import pandas as pd\n",
    "import re"
   ]
  },
  {
   "cell_type": "code",
   "execution_count": 2,
   "metadata": {},
   "outputs": [],
   "source": [
    "import string\n",
    "from nltk import pos_tag\n",
    "from nltk.corpus import stopwords\n",
    "from nltk.tokenize import WhitespaceTokenizer\n",
    "from nltk.stem import WordNetLemmatizer\n",
    "from nltk.corpus import wordnet"
   ]
  },
  {
   "cell_type": "code",
   "execution_count": 3,
   "metadata": {},
   "outputs": [
    {
     "name": "stdout",
     "output_type": "stream",
     "text": [
      "[nltk_data] Downloading package stopwords to\n",
      "[nltk_data]     /Users/shivanigoel/nltk_data...\n",
      "[nltk_data]   Package stopwords is already up-to-date!\n",
      "[nltk_data] Downloading package averaged_perceptron_tagger to\n",
      "[nltk_data]     /Users/shivanigoel/nltk_data...\n",
      "[nltk_data]   Package averaged_perceptron_tagger is already up-to-\n",
      "[nltk_data]       date!\n",
      "[nltk_data] Downloading package wordnet to\n",
      "[nltk_data]     /Users/shivanigoel/nltk_data...\n",
      "[nltk_data]   Package wordnet is already up-to-date!\n",
      "[nltk_data] Downloading package crubadan to\n",
      "[nltk_data]     /Users/shivanigoel/nltk_data...\n",
      "[nltk_data]   Package crubadan is already up-to-date!\n"
     ]
    },
    {
     "data": {
      "text/plain": [
       "True"
      ]
     },
     "execution_count": 3,
     "metadata": {},
     "output_type": "execute_result"
    }
   ],
   "source": [
    "import nltk\n",
    "nltk.download('stopwords')\n",
    "nltk.download('averaged_perceptron_tagger')\n",
    "nltk.download('wordnet')\n",
    "nltk.download('crubadan')"
   ]
  },
  {
   "cell_type": "markdown",
   "metadata": {},
   "source": [
    "## 1. Obtain Data"
   ]
  },
  {
   "cell_type": "code",
   "execution_count": 5,
   "metadata": {},
   "outputs": [],
   "source": [
    "reviews_df = pd.read_csv('../data/interim/reviews_lang.csv')"
   ]
  },
  {
   "cell_type": "code",
   "execution_count": 6,
   "metadata": {},
   "outputs": [
    {
     "data": {
      "text/html": [
       "<div>\n",
       "<style scoped>\n",
       "    .dataframe tbody tr th:only-of-type {\n",
       "        vertical-align: middle;\n",
       "    }\n",
       "\n",
       "    .dataframe tbody tr th {\n",
       "        vertical-align: top;\n",
       "    }\n",
       "\n",
       "    .dataframe thead th {\n",
       "        text-align: right;\n",
       "    }\n",
       "</style>\n",
       "<table border=\"1\" class=\"dataframe\">\n",
       "  <thead>\n",
       "    <tr style=\"text-align: right;\">\n",
       "      <th></th>\n",
       "      <th>listing_id</th>\n",
       "      <th>id</th>\n",
       "      <th>date</th>\n",
       "      <th>reviewer_id</th>\n",
       "      <th>reviewer_name</th>\n",
       "      <th>comments</th>\n",
       "      <th>lang</th>\n",
       "    </tr>\n",
       "  </thead>\n",
       "  <tbody>\n",
       "    <tr>\n",
       "      <th>0</th>\n",
       "      <td>2539</td>\n",
       "      <td>55688172</td>\n",
       "      <td>2015-12-04</td>\n",
       "      <td>25160947</td>\n",
       "      <td>Peter</td>\n",
       "      <td>Great host</td>\n",
       "      <td>ENGLISH</td>\n",
       "    </tr>\n",
       "    <tr>\n",
       "      <th>1</th>\n",
       "      <td>2539</td>\n",
       "      <td>97474898</td>\n",
       "      <td>2016-08-27</td>\n",
       "      <td>91513326</td>\n",
       "      <td>Liz</td>\n",
       "      <td>Nice room for the price. Great neighborhood. J...</td>\n",
       "      <td>ENGLISH</td>\n",
       "    </tr>\n",
       "    <tr>\n",
       "      <th>2</th>\n",
       "      <td>2539</td>\n",
       "      <td>105340344</td>\n",
       "      <td>2016-10-01</td>\n",
       "      <td>90022459</td>\n",
       "      <td>Евгений</td>\n",
       "      <td>Very nice apt.  New remodeled.</td>\n",
       "      <td>ENGLISH</td>\n",
       "    </tr>\n",
       "    <tr>\n",
       "      <th>3</th>\n",
       "      <td>2539</td>\n",
       "      <td>133131670</td>\n",
       "      <td>2017-02-20</td>\n",
       "      <td>116165195</td>\n",
       "      <td>George</td>\n",
       "      <td>Great place to stay for a while. John is a gre...</td>\n",
       "      <td>ENGLISH</td>\n",
       "    </tr>\n",
       "    <tr>\n",
       "      <th>4</th>\n",
       "      <td>2539</td>\n",
       "      <td>138349776</td>\n",
       "      <td>2017-03-19</td>\n",
       "      <td>118432644</td>\n",
       "      <td>Carlos</td>\n",
       "      <td>.</td>\n",
       "      <td>Unknown</td>\n",
       "    </tr>\n",
       "  </tbody>\n",
       "</table>\n",
       "</div>"
      ],
      "text/plain": [
       "   listing_id         id        date  reviewer_id reviewer_name  \\\n",
       "0        2539   55688172  2015-12-04     25160947         Peter   \n",
       "1        2539   97474898  2016-08-27     91513326           Liz   \n",
       "2        2539  105340344  2016-10-01     90022459       Евгений   \n",
       "3        2539  133131670  2017-02-20    116165195        George   \n",
       "4        2539  138349776  2017-03-19    118432644        Carlos   \n",
       "\n",
       "                                            comments     lang  \n",
       "0                                         Great host  ENGLISH  \n",
       "1  Nice room for the price. Great neighborhood. J...  ENGLISH  \n",
       "2                     Very nice apt.  New remodeled.  ENGLISH  \n",
       "3  Great place to stay for a while. John is a gre...  ENGLISH  \n",
       "4                                                  .  Unknown  "
      ]
     },
     "execution_count": 6,
     "metadata": {},
     "output_type": "execute_result"
    }
   ],
   "source": [
    "reviews_df.head()"
   ]
  },
  {
   "cell_type": "code",
   "execution_count": 7,
   "metadata": {},
   "outputs": [
    {
     "data": {
      "text/plain": [
       "(1106639, 7)"
      ]
     },
     "execution_count": 7,
     "metadata": {},
     "output_type": "execute_result"
    }
   ],
   "source": [
    "reviews_df.shape"
   ]
  },
  {
   "cell_type": "code",
   "execution_count": 8,
   "metadata": {},
   "outputs": [
    {
     "data": {
      "text/plain": [
       "ENGLISH                984444\n",
       "FRENCH                  39058\n",
       "SPANISH                 34378\n",
       "GERMAN                  13160\n",
       "ITALIAN                  6516\n",
       "Chinese                  5433\n",
       "PORTUGUESE               5424\n",
       "DUTCH                    3019\n",
       "Korean                   2555\n",
       "Japanese                 2154\n",
       "RUSSIAN                  1994\n",
       "Unknown                  1283\n",
       "DANISH                   1054\n",
       "SWEDISH                  1014\n",
       "ChineseT                  998\n",
       "FINNISH                   447\n",
       "NORWEGIAN                 402\n",
       "TURKISH                   392\n",
       "CZECH                     384\n",
       "POLISH                    352\n",
       "CATALAN                   339\n",
       "TAGALOG                   220\n",
       "SLOVAK                    167\n",
       "INDONESIAN                154\n",
       "ROMANIAN                  148\n",
       "IRISH                     131\n",
       "HUNGARIAN                 103\n",
       "MALTESE                    95\n",
       "ESTONIAN                   86\n",
       "WELSH                      85\n",
       "LITHUANIAN                 73\n",
       "GREEK                      61\n",
       "GALICIAN                   57\n",
       "HEBREW                     50\n",
       "AFRIKAANS                  48\n",
       "MALAY                      47\n",
       "TG_UNKNOWN_LANGUAGE        44\n",
       "ICELANDIC                  37\n",
       "BASQUE                     34\n",
       "THAI                       32\n",
       "SWAHILI                    30\n",
       "CROATIAN                   27\n",
       "ALBANIAN                   27\n",
       "VIETNAMESE                 19\n",
       "SLOVENIAN                  12\n",
       "ARABIC                     11\n",
       "SERBIAN                     9\n",
       "UKRAINIAN                   8\n",
       "HAITIAN_CREOLE              7\n",
       "LATVIAN                     6\n",
       "BULGARIAN                   3\n",
       "BELARUSIAN                  3\n",
       "MACEDONIAN                  2\n",
       "KHMER                       1\n",
       "AZERBAIJANI                 1\n",
       "TIBETAN                     1\n",
       "Name: lang, dtype: int64"
      ]
     },
     "execution_count": 8,
     "metadata": {},
     "output_type": "execute_result"
    }
   ],
   "source": [
    "reviews_df['lang'].value_counts()"
   ]
  },
  {
   "cell_type": "markdown",
   "metadata": {},
   "source": [
    "## 2. Sample Data"
   ]
  },
  {
   "cell_type": "markdown",
   "metadata": {},
   "source": [
    "Sentiment polarity calculation takes a lot of time. For quick EDA, I am sampling the data and using 1/10th of it."
   ]
  },
  {
   "cell_type": "code",
   "execution_count": 9,
   "metadata": {},
   "outputs": [],
   "source": [
    "reviews_df = reviews_df.sample(frac=0.1, replace=False, random_state=42)"
   ]
  },
  {
   "cell_type": "code",
   "execution_count": 10,
   "metadata": {},
   "outputs": [
    {
     "data": {
      "text/html": [
       "<div>\n",
       "<style scoped>\n",
       "    .dataframe tbody tr th:only-of-type {\n",
       "        vertical-align: middle;\n",
       "    }\n",
       "\n",
       "    .dataframe tbody tr th {\n",
       "        vertical-align: top;\n",
       "    }\n",
       "\n",
       "    .dataframe thead th {\n",
       "        text-align: right;\n",
       "    }\n",
       "</style>\n",
       "<table border=\"1\" class=\"dataframe\">\n",
       "  <thead>\n",
       "    <tr style=\"text-align: right;\">\n",
       "      <th></th>\n",
       "      <th>listing_id</th>\n",
       "      <th>id</th>\n",
       "      <th>date</th>\n",
       "      <th>reviewer_id</th>\n",
       "      <th>reviewer_name</th>\n",
       "      <th>comments</th>\n",
       "      <th>lang</th>\n",
       "    </tr>\n",
       "  </thead>\n",
       "  <tbody>\n",
       "    <tr>\n",
       "      <th>24431</th>\n",
       "      <td>60948</td>\n",
       "      <td>301066782</td>\n",
       "      <td>2018-08-03</td>\n",
       "      <td>9485766</td>\n",
       "      <td>Melanie</td>\n",
       "      <td>Positives first: very large space for New York...</td>\n",
       "      <td>ENGLISH</td>\n",
       "    </tr>\n",
       "    <tr>\n",
       "      <th>848983</th>\n",
       "      <td>19018581</td>\n",
       "      <td>290463512</td>\n",
       "      <td>2018-07-14</td>\n",
       "      <td>6522555</td>\n",
       "      <td>Vicki</td>\n",
       "      <td>Emma and Alistair are great. They even gave me...</td>\n",
       "      <td>ENGLISH</td>\n",
       "    </tr>\n",
       "    <tr>\n",
       "      <th>299568</th>\n",
       "      <td>3835681</td>\n",
       "      <td>20630431</td>\n",
       "      <td>2014-10-02</td>\n",
       "      <td>1439046</td>\n",
       "      <td>Jan</td>\n",
       "      <td>The Host is perfect guy, the place is really n...</td>\n",
       "      <td>ENGLISH</td>\n",
       "    </tr>\n",
       "    <tr>\n",
       "      <th>619865</th>\n",
       "      <td>12600938</td>\n",
       "      <td>122667036</td>\n",
       "      <td>2016-12-25</td>\n",
       "      <td>50020643</td>\n",
       "      <td>Jerez</td>\n",
       "      <td>We had a lovely stay, very accommodating, help...</td>\n",
       "      <td>ENGLISH</td>\n",
       "    </tr>\n",
       "    <tr>\n",
       "      <th>539573</th>\n",
       "      <td>9713045</td>\n",
       "      <td>207205374</td>\n",
       "      <td>2017-10-28</td>\n",
       "      <td>11537814</td>\n",
       "      <td>Jeffrey</td>\n",
       "      <td>We like to thank Cedric to make special arrang...</td>\n",
       "      <td>ENGLISH</td>\n",
       "    </tr>\n",
       "  </tbody>\n",
       "</table>\n",
       "</div>"
      ],
      "text/plain": [
       "        listing_id         id        date  reviewer_id reviewer_name  \\\n",
       "24431        60948  301066782  2018-08-03      9485766       Melanie   \n",
       "848983    19018581  290463512  2018-07-14      6522555         Vicki   \n",
       "299568     3835681   20630431  2014-10-02      1439046           Jan   \n",
       "619865    12600938  122667036  2016-12-25     50020643         Jerez   \n",
       "539573     9713045  207205374  2017-10-28     11537814       Jeffrey   \n",
       "\n",
       "                                                 comments     lang  \n",
       "24431   Positives first: very large space for New York...  ENGLISH  \n",
       "848983  Emma and Alistair are great. They even gave me...  ENGLISH  \n",
       "299568  The Host is perfect guy, the place is really n...  ENGLISH  \n",
       "619865  We had a lovely stay, very accommodating, help...  ENGLISH  \n",
       "539573  We like to thank Cedric to make special arrang...  ENGLISH  "
      ]
     },
     "execution_count": 10,
     "metadata": {},
     "output_type": "execute_result"
    }
   ],
   "source": [
    "reviews_df.head()"
   ]
  },
  {
   "cell_type": "code",
   "execution_count": 11,
   "metadata": {},
   "outputs": [
    {
     "data": {
      "text/plain": [
       "(110664, 7)"
      ]
     },
     "execution_count": 11,
     "metadata": {},
     "output_type": "execute_result"
    }
   ],
   "source": [
    "reviews_df.shape"
   ]
  },
  {
   "cell_type": "markdown",
   "metadata": {},
   "source": [
    "## 3. Cleaning Data"
   ]
  },
  {
   "cell_type": "code",
   "execution_count": 12,
   "metadata": {},
   "outputs": [],
   "source": [
    "reviews_df.comments = reviews_df.comments.astype(str)"
   ]
  },
  {
   "cell_type": "code",
   "execution_count": 13,
   "metadata": {},
   "outputs": [],
   "source": [
    "def get_wordnet_pos(pos_tag):\n",
    "    if pos_tag.startswith('J'):\n",
    "        return wordnet.ADJ\n",
    "    elif pos_tag.startswith('V'):\n",
    "        return wordnet.VERB\n",
    "    elif pos_tag.startswith('N'):\n",
    "        return wordnet.NOUN\n",
    "    elif pos_tag.startswith('R'):\n",
    "        return wordnet.ADV\n",
    "    else:\n",
    "        return wordnet.NOUN"
   ]
  },
  {
   "cell_type": "code",
   "execution_count": 25,
   "metadata": {},
   "outputs": [],
   "source": [
    "def transform_text(text):\n",
    "    # converting to lower text\n",
    "    text = text.lower()\n",
    "    \n",
    "    # tokenization and removing punctuations\n",
    "    text = [word.strip(string.punctuation) for word in text.split(\" \")]\n",
    "    \n",
    "    # removing words that have numbers in them\n",
    "    text = [word for word in text if not any(c.isdigit() for c in word)]\n",
    "    \n",
    "    # removing stop words\n",
    "    stop = stopwords.words('english')\n",
    "    text = [x for x in text if x not in stop]\n",
    "    \n",
    "    # removing empty tokens\n",
    "    text = [t for t in text if len(t) > 0]\n",
    "    \n",
    "    # pos tagging\n",
    "    pos_tags = pos_tag(text)\n",
    "    \n",
    "    # lemmatization\n",
    "    text = [WordNetLemmatizer().lemmatize(t[0], get_wordnet_pos(t[1])) for t in pos_tags]\n",
    "    \n",
    "    # removing 1 letter words\n",
    "    text = [t for t in text if len(t) > 1]\n",
    "    \n",
    "    # join all\n",
    "    text = \" \".join(text)\n",
    "    \n",
    "    return(text)"
   ]
  },
  {
   "cell_type": "code",
   "execution_count": 26,
   "metadata": {},
   "outputs": [],
   "source": [
    "reviews_df['comments_clean'] = reviews_df['comments'].apply(transform_text)"
   ]
  },
  {
   "cell_type": "code",
   "execution_count": 27,
   "metadata": {},
   "outputs": [
    {
     "data": {
      "text/plain": [
       "24431     positive first large space new york interestin...\n",
       "848983    emma alistair great even give shelf fridge acc...\n",
       "299568    host perfect guy place really nice look close ...\n",
       "619865    lovely stay accommodate helpful welcome would ...\n",
       "539573    like thank cedric make special arrangement che...\n",
       "Name: comments_clean, dtype: object"
      ]
     },
     "execution_count": 27,
     "metadata": {},
     "output_type": "execute_result"
    }
   ],
   "source": [
    "reviews_df.comments_clean.head()"
   ]
  },
  {
   "cell_type": "markdown",
   "metadata": {},
   "source": [
    "## Writing cleaned data to file"
   ]
  },
  {
   "cell_type": "code",
   "execution_count": 29,
   "metadata": {},
   "outputs": [],
   "source": [
    "reviews_df.to_csv('../data/interim/smdata_cleaned.csv', index = False)"
   ]
  },
  {
   "cell_type": "code",
   "execution_count": null,
   "metadata": {},
   "outputs": [],
   "source": []
  }
 ],
 "metadata": {
  "kernelspec": {
   "display_name": "Python 3",
   "language": "python",
   "name": "python3"
  },
  "language_info": {
   "codemirror_mode": {
    "name": "ipython",
    "version": 3
   },
   "file_extension": ".py",
   "mimetype": "text/x-python",
   "name": "python",
   "nbconvert_exporter": "python",
   "pygments_lexer": "ipython3",
   "version": "3.7.1"
  }
 },
 "nbformat": 4,
 "nbformat_minor": 2
}
